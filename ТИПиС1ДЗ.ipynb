{
  "nbformat": 4,
  "nbformat_minor": 0,
  "metadata": {
    "colab": {
      "provenance": []
    },
    "kernelspec": {
      "name": "python3",
      "display_name": "Python 3"
    },
    "language_info": {
      "name": "python"
    }
  },
  "cells": [
    {
      "cell_type": "code",
      "execution_count": 1,
      "metadata": {
        "id": "FSEiGdzXjB61"
      },
      "outputs": [],
      "source": [
        "import pandas as pd\n",
        "import numpy as np"
      ]
    },
    {
      "cell_type": "code",
      "source": [
        "url = \"https://archive.ics.uci.edu/ml/machine-learning-databases/adult/adult.data\"\n",
        "\n",
        "columns = [\n",
        "    \"age\", \"workclass\", \"fnlwgt\", \"education\", \"education-num\",\n",
        "    \"marital-status\", \"occupation\", \"relationship\", \"race\", \"sex\",\n",
        "    \"capital-gain\", \"capital-loss\", \"hours-per-week\", \"native-country\", \"income\"\n",
        "]\n",
        "\n",
        "df = pd.read_csv(url, header=None, names=columns, na_values=\" ?\", skipinitialspace=True)\n",
        "\n",
        "print(df.head())"
      ],
      "metadata": {
        "colab": {
          "base_uri": "https://localhost:8080/"
        },
        "id": "3A8M_WNpjIqD",
        "outputId": "a3840c08-c4a9-437a-c0a8-2b25c951ca4e"
      },
      "execution_count": 2,
      "outputs": [
        {
          "output_type": "stream",
          "name": "stdout",
          "text": [
            "   age         workclass  fnlwgt  education  education-num  \\\n",
            "0   39         State-gov   77516  Bachelors             13   \n",
            "1   50  Self-emp-not-inc   83311  Bachelors             13   \n",
            "2   38           Private  215646    HS-grad              9   \n",
            "3   53           Private  234721       11th              7   \n",
            "4   28           Private  338409  Bachelors             13   \n",
            "\n",
            "       marital-status         occupation   relationship   race     sex  \\\n",
            "0       Never-married       Adm-clerical  Not-in-family  White    Male   \n",
            "1  Married-civ-spouse    Exec-managerial        Husband  White    Male   \n",
            "2            Divorced  Handlers-cleaners  Not-in-family  White    Male   \n",
            "3  Married-civ-spouse  Handlers-cleaners        Husband  Black    Male   \n",
            "4  Married-civ-spouse     Prof-specialty           Wife  Black  Female   \n",
            "\n",
            "   capital-gain  capital-loss  hours-per-week native-country income  \n",
            "0          2174             0              40  United-States  <=50K  \n",
            "1             0             0              13  United-States  <=50K  \n",
            "2             0             0              40  United-States  <=50K  \n",
            "3             0             0              40  United-States  <=50K  \n",
            "4             0             0              40           Cuba  <=50K  \n"
          ]
        }
      ]
    },
    {
      "cell_type": "code",
      "source": [
        "print(\"1) Число столбцов:\", df.shape[1])"
      ],
      "metadata": {
        "colab": {
          "base_uri": "https://localhost:8080/"
        },
        "id": "7_GB9YzcjLwT",
        "outputId": "2f0b4bcb-c077-4b59-d057-cf2cb16162aa"
      },
      "execution_count": 3,
      "outputs": [
        {
          "output_type": "stream",
          "name": "stdout",
          "text": [
            "1) Число столбцов: 15\n"
          ]
        }
      ]
    },
    {
      "cell_type": "code",
      "source": [
        "missing = df.isnull().sum()\n",
        "missing_cols = missing[missing > 0]\n",
        "print(\"\\n2) Пропуски по столбцам:\")\n",
        "if len(missing_cols) == 0:\n",
        "    print(\"   Пропусков нет\")\n",
        "else:\n",
        "    print(missing_cols)"
      ],
      "metadata": {
        "colab": {
          "base_uri": "https://localhost:8080/"
        },
        "id": "M0estrxhktmW",
        "outputId": "0778a4dd-da97-4254-f00c-55a246e2c559"
      },
      "execution_count": 11,
      "outputs": [
        {
          "output_type": "stream",
          "name": "stdout",
          "text": [
            "\n",
            "2) Пропуски по столбцам:\n",
            "workclass         1836\n",
            "occupation        1843\n",
            "native-country     583\n",
            "dtype: int64\n"
          ]
        }
      ]
    },
    {
      "cell_type": "code",
      "source": [
        "print(\"\\n3) Уникальных значений в 'race':\", df[\"race\"].nunique())"
      ],
      "metadata": {
        "colab": {
          "base_uri": "https://localhost:8080/"
        },
        "id": "eC_aMZ4GmBgh",
        "outputId": "3e388045-97e1-4c74-fde6-c1e7b0e9e727"
      },
      "execution_count": 12,
      "outputs": [
        {
          "output_type": "stream",
          "name": "stdout",
          "text": [
            "\n",
            "3) Уникальных значений в 'race': 5\n"
          ]
        }
      ]
    },
    {
      "cell_type": "code",
      "source": [
        "print(\"\\n4) Медиана hours-per-week:\", df[\"hours-per-week\"].median())"
      ],
      "metadata": {
        "colab": {
          "base_uri": "https://localhost:8080/"
        },
        "id": "HXC7-bEImJZw",
        "outputId": "c9e98e51-09a4-4fac-cfbe-0afee6165f9c"
      },
      "execution_count": 13,
      "outputs": [
        {
          "output_type": "stream",
          "name": "stdout",
          "text": [
            "\n",
            "4) Медиана hours-per-week: 40.0\n"
          ]
        }
      ]
    },
    {
      "cell_type": "code",
      "source": [
        "higher_income = df[df[\"income\"] == \">50K\"]\n",
        "print(\"\\n5) Кол-во мужчин с >50K:\", (higher_income[\"sex\"] == \"Male\").sum())\n",
        "print(\"   Кол-во женщин с >50K:\", (higher_income[\"sex\"] == \"Female\").sum())\n",
        "if (higher_income[\"sex\"] == \"Male\").sum() > (higher_income[\"sex\"] == \"Female\").sum():\n",
        "    print(\"   Больше мужчин.\")\n",
        "else:\n",
        "    print(\"   Больше женщин.\")"
      ],
      "metadata": {
        "colab": {
          "base_uri": "https://localhost:8080/"
        },
        "id": "-Gbwa3jPmOpx",
        "outputId": "89dc315e-0d57-452b-92e8-6e596f14255c"
      },
      "execution_count": 14,
      "outputs": [
        {
          "output_type": "stream",
          "name": "stdout",
          "text": [
            "\n",
            "5) Кол-во мужчин с >50K: 6662\n",
            "   Кол-во женщин с >50K: 1179\n",
            "   Больше мужчин.\n"
          ]
        }
      ]
    },
    {
      "cell_type": "code",
      "source": [
        "print(\"\\n6) Заполнение пропусков:\")\n",
        "for col in df.columns:\n",
        "    if df[col].isnull().sum() > 0:\n",
        "        mode_val = df[col].mode()[0]\n",
        "        df[col] = df[col].fillna(mode_val)\n",
        "        print(f\"   В столбце {col} пропуски заменены на '{mode_val}'\")"
      ],
      "metadata": {
        "colab": {
          "base_uri": "https://localhost:8080/"
        },
        "id": "grYPymL7mRDY",
        "outputId": "9295617a-397e-47b5-9446-76f29030e5da"
      },
      "execution_count": 15,
      "outputs": [
        {
          "output_type": "stream",
          "name": "stdout",
          "text": [
            "\n",
            "6) Заполнение пропусков:\n",
            "   В столбце workclass пропуски заменены на 'Private'\n",
            "   В столбце occupation пропуски заменены на 'Prof-specialty'\n",
            "   В столбце native-country пропуски заменены на 'United-States'\n"
          ]
        }
      ]
    },
    {
      "cell_type": "code",
      "source": [
        "print(\"\\nПропуски после заполнения:\\n\", df.isnull().sum().sum())"
      ],
      "metadata": {
        "colab": {
          "base_uri": "https://localhost:8080/"
        },
        "id": "Calq-gHEmXDV",
        "outputId": "19e7bd62-7771-4530-b24e-81d757952237"
      },
      "execution_count": 16,
      "outputs": [
        {
          "output_type": "stream",
          "name": "stdout",
          "text": [
            "\n",
            "Пропуски после заполнения:\n",
            " 0\n"
          ]
        }
      ]
    },
    {
      "cell_type": "code",
      "source": [
        "print(\"\\nДругой способ заполнения: можно использовать предсказание модели (например, классификатор для категориальных признаков),\")\n",
        "print(\"либо заменить пропуски случайным значением из распределения столбца, либо 'unknown'.\")"
      ],
      "metadata": {
        "colab": {
          "base_uri": "https://localhost:8080/"
        },
        "id": "ZOYCFH1Ima43",
        "outputId": "face9b2e-71ea-46cd-b23b-dc1ab47e56ae"
      },
      "execution_count": 17,
      "outputs": [
        {
          "output_type": "stream",
          "name": "stdout",
          "text": [
            "\n",
            "Другой способ заполнения: можно использовать предсказание модели (например, классификатор для категориальных признаков),\n",
            "либо заменить пропуски случайным значением из распределения столбца, либо 'unknown'.\n"
          ]
        }
      ]
    }
  ]
}